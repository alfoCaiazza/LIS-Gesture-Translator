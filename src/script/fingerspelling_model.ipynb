{
 "cells": [
  {
   "cell_type": "code",
   "execution_count": 1,
   "id": "5df94c3e",
   "metadata": {},
   "outputs": [
    {
     "name": "stderr",
     "output_type": "stream",
     "text": [
      "2025-05-17 11:25:43.783655: I tensorflow/core/util/port.cc:153] oneDNN custom operations are on. You may see slightly different numerical results due to floating-point round-off errors from different computation orders. To turn them off, set the environment variable `TF_ENABLE_ONEDNN_OPTS=0`.\n",
      "2025-05-17 11:25:43.812734: E external/local_xla/xla/stream_executor/cuda/cuda_fft.cc:467] Unable to register cuFFT factory: Attempting to register factory for plugin cuFFT when one has already been registered\n",
      "WARNING: All log messages before absl::InitializeLog() is called are written to STDERR\n",
      "E0000 00:00:1747473943.837566   29517 cuda_dnn.cc:8579] Unable to register cuDNN factory: Attempting to register factory for plugin cuDNN when one has already been registered\n",
      "E0000 00:00:1747473943.844566   29517 cuda_blas.cc:1407] Unable to register cuBLAS factory: Attempting to register factory for plugin cuBLAS when one has already been registered\n",
      "W0000 00:00:1747473943.871131   29517 computation_placer.cc:177] computation placer already registered. Please check linkage and avoid linking the same target more than once.\n",
      "W0000 00:00:1747473943.871170   29517 computation_placer.cc:177] computation placer already registered. Please check linkage and avoid linking the same target more than once.\n",
      "W0000 00:00:1747473943.871172   29517 computation_placer.cc:177] computation placer already registered. Please check linkage and avoid linking the same target more than once.\n",
      "W0000 00:00:1747473943.871173   29517 computation_placer.cc:177] computation placer already registered. Please check linkage and avoid linking the same target more than once.\n",
      "2025-05-17 11:25:43.879929: I tensorflow/core/platform/cpu_feature_guard.cc:210] This TensorFlow binary is optimized to use available CPU instructions in performance-critical operations.\n",
      "To enable the following instructions: AVX2 AVX_VNNI FMA, in other operations, rebuild TensorFlow with the appropriate compiler flags.\n",
      "/tmp/ipykernel_29517/2793564686.py:17: DeprecationWarning: `import kerastuner` is deprecated, please use `import keras_tuner`.\n",
      "  from kerastuner.tuners import RandomSearch\n"
     ]
    }
   ],
   "source": [
    "import tensorflow as tf\n",
    "import numpy as np\n",
    "import seaborn as sns\n",
    "import mlflow\n",
    "import dagshub\n",
    "import json\n",
    "import os\n",
    "import keras\n",
    "import matplotlib.pyplot as plt\n",
    "from dagshub import dagshub_logger\n",
    "from tensorflow.keras.applications import ResNet50\n",
    "from tensorflow.keras.layers import GlobalAveragePooling2D, Dense, Dropout\n",
    "from tensorflow.keras.models import Model\n",
    "from tensorflow.keras.optimizers import Adam\n",
    "from tensorflow.keras.callbacks import EarlyStopping, ReduceLROnPlateau, Callback\n",
    "from sklearn.metrics import confusion_matrix, classification_report\n",
    "from kerastuner.tuners import RandomSearch"
   ]
  },
  {
   "cell_type": "code",
   "execution_count": null,
   "id": "20f50c56",
   "metadata": {},
   "outputs": [],
   "source": [
    "# Defining mlflow experiment parameter\n",
    "TRIAL_NAME = \"best_trial_\"\n",
    "MLFLOW_MAIN_RUN = \"Main Tunining Run: Best Model\"\n",
    "TUNER_DIRECTORY = \"logs/best_tuner\"\n",
    "TUNER_PROJECT_NAME = \"FingerSpellIT -  Best Model\"\n",
    "MODEL_NAME = \"model_fingerspelling_v4\"\n",
    "EVALUATION_MLFLOW_RUN = \"Evaluating Best Model\"\n",
    "REPORT_NAME = \"best_classification_report\"\n",
    "CM_NAME=\"best_confusion_matrix_best_model\""
   ]
  },
  {
   "cell_type": "code",
   "execution_count": 3,
   "id": "fad91c5f",
   "metadata": {},
   "outputs": [
    {
     "data": {
      "text/html": [
       "<pre style=\"white-space:pre;overflow-x:auto;line-height:normal;font-family:Menlo,'DejaVu Sans Mono',consolas,'Courier New',monospace\">Accessing as alfoCaiazza\n",
       "</pre>\n"
      ],
      "text/plain": [
       "Accessing as alfoCaiazza\n"
      ]
     },
     "metadata": {},
     "output_type": "display_data"
    },
    {
     "data": {
      "text/html": [
       "<pre style=\"white-space:pre;overflow-x:auto;line-height:normal;font-family:Menlo,'DejaVu Sans Mono',consolas,'Courier New',monospace\">Initialized MLflow to track repo <span style=\"color: #008000; text-decoration-color: #008000\">\"alfoCaiazza/FingerSpellIT\"</span>\n",
       "</pre>\n"
      ],
      "text/plain": [
       "Initialized MLflow to track repo \u001b[32m\"alfoCaiazza/FingerSpellIT\"\u001b[0m\n"
      ]
     },
     "metadata": {},
     "output_type": "display_data"
    },
    {
     "data": {
      "text/html": [
       "<pre style=\"white-space:pre;overflow-x:auto;line-height:normal;font-family:Menlo,'DejaVu Sans Mono',consolas,'Courier New',monospace\">Repository alfoCaiazza/FingerSpellIT initialized!\n",
       "</pre>\n"
      ],
      "text/plain": [
       "Repository alfoCaiazza/FingerSpellIT initialized!\n"
      ]
     },
     "metadata": {},
     "output_type": "display_data"
    }
   ],
   "source": [
    "# MLflow - Dagshub initialization\n",
    "mlflow.set_tracking_uri(\"https://dagshub.com/alfoCaiazza/FingerSpellIT.mlflow\")\n",
    "\n",
    "dagshub.init(repo_owner='alfoCaiazza', repo_name='FingerSpellIT', mlflow=True)\n",
    "dagshub_log = dagshub_logger(metrics_path=\"metrics\", hparams_path=\"params\")"
   ]
  },
  {
   "cell_type": "code",
   "execution_count": 4,
   "id": "b10b5797",
   "metadata": {},
   "outputs": [
    {
     "name": "stdout",
     "output_type": "stream",
     "text": [
      "GPU: PhysicalDevice(name='/physical_device:GPU:0', device_type='GPU')\n"
     ]
    }
   ],
   "source": [
    "# To avoid OOM errors, setting GPU Memory Consuption Growth\n",
    "gpus = tf.config.experimental.list_physical_devices('GPU')\n",
    "for gpu in gpus:\n",
    "    print(f\"GPU: {gpu}\")\n",
    "    tf.config.experimental.set_memory_growth(gpu, True) # Keeping the use of memory limited to prevent errors"
   ]
  },
  {
   "cell_type": "code",
   "execution_count": 5,
   "id": "3ee5ac62",
   "metadata": {},
   "outputs": [
    {
     "name": "stdout",
     "output_type": "stream",
     "text": [
      "Found 4489 files belonging to 22 classes.\n"
     ]
    },
    {
     "name": "stderr",
     "output_type": "stream",
     "text": [
      "I0000 00:00:1747473952.162547   29517 gpu_device.cc:2019] Created device /job:localhost/replica:0/task:0/device:GPU:0 with 1753 MB memory:  -> device: 0, name: NVIDIA GeForce RTX 3050 Ti Laptop GPU, pci bus id: 0000:01:00.0, compute capability: 8.6\n"
     ]
    },
    {
     "name": "stdout",
     "output_type": "stream",
     "text": [
      "Found 962 files belonging to 22 classes.\n",
      "Found 977 files belonging to 22 classes.\n"
     ]
    }
   ],
   "source": [
    "train_dir = '../data/processed/train'\n",
    "val_dir = '../data/processed/val'\n",
    "test_dir = '../data/processed/test'\n",
    "\n",
    "# Automatically creates a dataset form the referred directory. Load the full dataset, shuffle = True ensures randomness\n",
    "train_ds = tf.keras.utils.image_dataset_from_directory(\n",
    "    train_dir,\n",
    "    image_size=(224, 224),\n",
    "    batch_size=32,\n",
    "    shuffle=True,\n",
    "    seed=123\n",
    ")\n",
    "\n",
    "class_names = train_ds.class_names\n",
    "\n",
    "val_ds = tf.keras.utils.image_dataset_from_directory(\n",
    "    val_dir,\n",
    "    image_size=(224, 224),\n",
    "    batch_size=32,\n",
    "    shuffle=True,\n",
    "    seed=123\n",
    ")\n",
    "\n",
    "test_ds = tf.keras.utils.image_dataset_from_directory(\n",
    "    test_dir,\n",
    "    image_size=(224, 224),\n",
    "    batch_size=32,\n",
    "    shuffle=True,\n",
    "    seed=123\n",
    ")"
   ]
  },
  {
   "cell_type": "code",
   "execution_count": 6,
   "id": "6fcac5c7",
   "metadata": {},
   "outputs": [],
   "source": [
    "# Pre-processing sequential model\n",
    "preprocessing_model = tf.keras.Sequential([\n",
    "    # Normalizing the images for ResNet50 model (0,1)\n",
    "    tf.keras.layers.Rescaling(1./255), \n",
    "\n",
    "    # Data augmentation:\n",
    "    tf.keras.layers.RandomFlip(\"horizontal\"),  # Simulating left hand\n",
    "    tf.keras.layers.RandomRotation(0.05),       # Rotations, max ±5%\n",
    "    tf.keras.layers.RandomZoom(0.05),\n",
    "\n",
    "    # Gaussian noise\n",
    "    tf.keras.layers.Lambda(lambda x: tf.clip_by_value(\n",
    "        x + tf.random.normal(tf.shape(x), mean=0.0, stddev=0.03), 0.0, 1.0\n",
    "    ))\n",
    "])\n",
    "\n",
    "train_ds = train_ds.map(lambda x, y: (preprocessing_model(x), y))\n",
    "\n",
    "normalization = tf.keras.layers.Rescaling(1./255)\n",
    "\n",
    "val_ds = val_ds.map(lambda x, y: (normalization(x), y))\n",
    "test_ds = test_ds.map(lambda x, y: (normalization(x), y))"
   ]
  },
  {
   "cell_type": "code",
   "execution_count": 7,
   "id": "d8e94774",
   "metadata": {},
   "outputs": [],
   "source": [
    "# Handling data batch size automatically \n",
    "AUTOTUNE = tf.data.AUTOTUNE\n",
    "\n",
    "train_ds= train_ds.prefetch(buffer_size=AUTOTUNE)\n",
    "val_ds= val_ds.prefetch(buffer_size=AUTOTUNE)\n",
    "test_ds = test_ds.prefetch(buffer_size=AUTOTUNE)"
   ]
  },
  {
   "cell_type": "code",
   "execution_count": null,
   "id": "787e71bc",
   "metadata": {},
   "outputs": [],
   "source": [
    "# Importing net for transfer learning\n",
    "def build_model(hp):\n",
    "    base_model = ResNet50(\n",
    "        weights='imagenet',\n",
    "        include_top=False, # Excludes the first layer\n",
    "        input_shape=(224,224, 3) # Specifing input shape\n",
    "    )\n",
    "\n",
    "    # Unfreezing net layers\n",
    "    base_model.trainable = True\n",
    "    for layer in base_model.layers[:-30]:\n",
    "        layer.trainable = False\n",
    "\n",
    "    # Adding more layer to the net from its output and adapting it to a multi-class classification task \n",
    "    x = GlobalAveragePooling2D()(base_model.output)\n",
    "    x = Dense(128, activation='sigmoid')(x)\n",
    "    x = Dropout(0.4)(x)\n",
    "\n",
    "    predictions = Dense(22, activation='softmax')(x) \n",
    "\n",
    "    # Creiamo il modello finale\n",
    "    model = Model(inputs=base_model.input, outputs=predictions)\n",
    "\n",
    "    # Listing the optimizers\n",
    "    optimizer = keras.optimizers.RMSprop(\n",
    "        learning_rate=0.0034900399558852437,\n",
    "        rho=0.872327542833833\n",
    "    )\n",
    "   \n",
    "\n",
    "    # Compiliamo il modello\n",
    "    model.compile(\n",
    "        optimizer=optimizer,\n",
    "        loss='sparse_categorical_crossentropy',\n",
    "        metrics=['sparse_categorical_accuracy']\n",
    "    )\n",
    "\n",
    "    return model"
   ]
  },
  {
   "cell_type": "code",
   "execution_count": 9,
   "id": "17a0ad8c",
   "metadata": {},
   "outputs": [],
   "source": [
    "callbacks_base = [\n",
    "    EarlyStopping(monitor='val_loss', patience=4, restore_best_weights=True),\n",
    "    ReduceLROnPlateau(monitor='val_loss', factor=0.5, patience=2, min_lr=1e-5)\n",
    "]\n",
    "\n",
    "# Customized Callback for tracking single trial parmas with MLflow\n",
    "class MLflowCallback(tf.keras.callbacks.Callback):\n",
    "    def __init__(self, trial_hyperparameters, trial_id):\n",
    "        super().__init__()\n",
    "        self.trial_id = trial_id\n",
    "        self.trial_hyperparameters = trial_hyperparameters\n",
    "\n",
    "    # Create a nested mlrun to register the trial\n",
    "    def on_train_begin(self, logs=None):\n",
    "        self.run = mlflow.start_run(run_name=f\"{TRIAL_NAME}_{self.trial_id}\", nested=True)\n",
    "        \n",
    "        # Tracks all trial params\n",
    "        mlflow.log_param('trial_id', self.trial_id)\n",
    "        for param_name, param_value in self.trial_hyperparameters.values.items():\n",
    "            mlflow.log_param(param_name, param_value)\n",
    "\n",
    "    # Tracks all trial metrics\n",
    "    def on_epoch_end(self, epoch, logs=None):\n",
    "        if logs is not None:\n",
    "            for metric_name, value in logs.items():\n",
    "                mlflow.log_metric(metric_name, value, step=epoch)\n",
    "\n",
    "    # Close the mlrun \n",
    "    def on_train_end(self, logs=None):\n",
    "        if self.run:\n",
    "            mlflow.end_run()"
   ]
  },
  {
   "cell_type": "code",
   "execution_count": 10,
   "id": "4792e019",
   "metadata": {},
   "outputs": [],
   "source": [
    "# Subclassed RandomSerach tuner which uses customized MLflow callback\n",
    "class MLflowTuner(RandomSearch):\n",
    "    def run_trial(self, trial, *args, **kwargs):\n",
    "        callbacks = callbacks_base + [MLflowCallback(trial.hyperparameters, trial.trial_id)]\n",
    "        kwargs['callbacks'] = callbacks\n",
    "        return super().run_trial(trial, *args, **kwargs)"
   ]
  },
  {
   "cell_type": "code",
   "execution_count": 11,
   "id": "330a9396",
   "metadata": {},
   "outputs": [
    {
     "name": "stdout",
     "output_type": "stream",
     "text": [
      "Trial 5 Complete [00h 40m 41s]\n",
      "sparse_categorical_accuracy: 0.12831366062164307\n",
      "\n",
      "Best sparse_categorical_accuracy So Far: 0.9057696461677551\n",
      "Total elapsed time: 03h 03m 50s\n"
     ]
    },
    {
     "name": "stderr",
     "output_type": "stream",
     "text": [
      "/home/acaia/LIS/LIS-Gesture-Translator/.lis/lib/python3.10/site-packages/keras/src/saving/saving_lib.py:757: UserWarning: Skipping variable loading for optimizer 'rmsprop', because it has 2 variables whereas the saved optimizer has 42 variables. \n",
      "  saveable.load_own_variables(weights_store.get(inner_path))\n",
      "WARNING:absl:You are saving your model as an HDF5 file via `model.save()` or `keras.saving.save_model(model)`. This file format is considered legacy. We recommend using instead the native Keras format, e.g. `model.save('my_model.keras')` or `keras.saving.save_model(model, 'my_model.keras')`. \n"
     ]
    },
    {
     "name": "stdout",
     "output_type": "stream",
     "text": [
      "🏃 View run Main Tunining Run: Augmented Data at: https://dagshub.com/alfoCaiazza/FingerSpellIT.mlflow/#/experiments/0/runs/75a24b4187344641aaee3b5308854520\n",
      "🧪 View experiment at: https://dagshub.com/alfoCaiazza/FingerSpellIT.mlflow/#/experiments/0\n"
     ]
    }
   ],
   "source": [
    "with mlflow.start_run(run_name=f\"{MLFLOW_MAIN_RUN}\"):\n",
    "    epochs = 50\n",
    "    mlflow.log_param('epochs', epochs)\n",
    "\n",
    "    tuner = MLflowTuner(\n",
    "        build_model,\n",
    "        objective='sparse_categorical_accuracy',\n",
    "        max_trials=5,\n",
    "        executions_per_trial=1,\n",
    "        directory=f'{TUNER_DIRECTORY}',\n",
    "        project_name=f'{TUNER_PROJECT_NAME}'\n",
    "    )\n",
    "    \n",
    "    tuner.search(\n",
    "        train_ds,\n",
    "        validation_data=val_ds,\n",
    "        epochs=epochs\n",
    "    )\n",
    "\n",
    "    best_model = tuner.get_best_models(num_models=1)[0]\n",
    "    best_hps = tuner.get_best_hyperparameters(num_trials=1)[0]\n",
    "    best_trial = tuner.oracle.get_best_trials(num_trials=1)[0]\n",
    "\n",
    "    for param, value in best_hps.values.items():\n",
    "        mlflow.log_param(param, value)\n",
    "\n",
    "    # Log metriche finali del trial\n",
    "    for metric_name, metric_data in best_trial.metrics.metrics.items():\n",
    "        if metric_data and isinstance(metric_data, dict):\n",
    "            values = metric_data.get('value', [])\n",
    "            if values:\n",
    "                mlflow.log_metric(metric_name, values[-1])\n",
    "\n",
    "    # Salving the model\n",
    "    model_path = f\"../model/{MODEL_NAME}.h5\"\n",
    "    best_model.save(model_path)\n",
    "    mlflow.log_artifact(model_path)\n",
    "\n",
    "mlflow.end_run()"
   ]
  },
  {
   "cell_type": "code",
   "execution_count": 12,
   "id": "0a73a085",
   "metadata": {},
   "outputs": [
    {
     "name": "stdout",
     "output_type": "stream",
     "text": [
      "\u001b[1m30/31\u001b[0m \u001b[32m━━━━━━━━━━━━━━━━━━━\u001b[0m\u001b[37m━\u001b[0m \u001b[1m0s\u001b[0m 88ms/step - loss: 0.3128 - sparse_categorical_accuracy: 0.9045"
     ]
    },
    {
     "name": "stderr",
     "output_type": "stream",
     "text": [
      "2025-05-17 14:30:47.771128: I external/local_xla/xla/stream_executor/cuda/subprocess_compilation.cc:346] ptxas warning : Registers are spilled to local memory in function 'gemm_fusion_dot_1698', 4 bytes spill stores, 4 bytes spill loads\n",
      "\n",
      "2025-05-17 14:30:47.925689: I external/local_xla/xla/stream_executor/cuda/subprocess_compilation.cc:346] ptxas warning : Registers are spilled to local memory in function 'gemm_fusion_dot_1703', 8 bytes spill stores, 8 bytes spill loads\n",
      "\n",
      "2025-05-17 14:30:48.552934: I external/local_xla/xla/stream_executor/cuda/subprocess_compilation.cc:346] ptxas warning : Registers are spilled to local memory in function 'gemm_fusion_dot_1698', 220 bytes spill stores, 220 bytes spill loads\n",
      "\n",
      "2025-05-17 14:30:48.586560: I external/local_xla/xla/stream_executor/cuda/subprocess_compilation.cc:346] ptxas warning : Registers are spilled to local memory in function 'gemm_fusion_dot_1703', 12 bytes spill stores, 12 bytes spill loads\n",
      "\n",
      "2025-05-17 14:30:48.946392: I external/local_xla/xla/stream_executor/cuda/subprocess_compilation.cc:346] ptxas warning : Registers are spilled to local memory in function 'gemm_fusion_dot_1698', 4384 bytes spill stores, 4228 bytes spill loads\n",
      "\n",
      "2025-05-17 14:30:49.013042: I external/local_xla/xla/stream_executor/cuda/subprocess_compilation.cc:346] ptxas warning : Registers are spilled to local memory in function 'gemm_fusion_dot_1698', 1008 bytes spill stores, 1008 bytes spill loads\n",
      "\n",
      "2025-05-17 14:30:49.056644: I external/local_xla/xla/stream_executor/cuda/subprocess_compilation.cc:346] ptxas warning : Registers are spilled to local memory in function 'gemm_fusion_dot_1698', 8 bytes spill stores, 8 bytes spill loads\n",
      "\n"
     ]
    },
    {
     "name": "stdout",
     "output_type": "stream",
     "text": [
      "\u001b[1m31/31\u001b[0m \u001b[32m━━━━━━━━━━━━━━━━━━━━\u001b[0m\u001b[37m\u001b[0m \u001b[1m16s\u001b[0m 356ms/step - loss: 0.3149 - sparse_categorical_accuracy: 0.9037\n",
      "Evaluation accuracy: 0.892\n"
     ]
    },
    {
     "name": "stderr",
     "output_type": "stream",
     "text": [
      "2025-05-17 14:30:53.350682: W tensorflow/core/kernels/data/prefetch_autotuner.cc:52] Prefetch autotuner tried to allocate 33554688 bytes after encountering the first element of size 33554688 bytes.This already causes the autotune ram budget to be exceeded. To stay within the ram budget, either increase the ram budget or reduce element size\n"
     ]
    },
    {
     "name": "stdout",
     "output_type": "stream",
     "text": [
      "\u001b[1m1/1\u001b[0m \u001b[32m━━━━━━━━━━━━━━━━━━━━\u001b[0m\u001b[37m\u001b[0m \u001b[1m2s\u001b[0m 2s/step\n",
      "\u001b[1m1/1\u001b[0m \u001b[32m━━━━━━━━━━━━━━━━━━━━\u001b[0m\u001b[37m\u001b[0m \u001b[1m0s\u001b[0m 138ms/step\n",
      "\u001b[1m1/1\u001b[0m \u001b[32m━━━━━━━━━━━━━━━━━━━━\u001b[0m\u001b[37m\u001b[0m \u001b[1m0s\u001b[0m 127ms/step\n",
      "\u001b[1m1/1\u001b[0m \u001b[32m━━━━━━━━━━━━━━━━━━━━\u001b[0m\u001b[37m\u001b[0m \u001b[1m0s\u001b[0m 129ms/step\n",
      "\u001b[1m1/1\u001b[0m \u001b[32m━━━━━━━━━━━━━━━━━━━━\u001b[0m\u001b[37m\u001b[0m \u001b[1m0s\u001b[0m 129ms/step\n",
      "\u001b[1m1/1\u001b[0m \u001b[32m━━━━━━━━━━━━━━━━━━━━\u001b[0m\u001b[37m\u001b[0m \u001b[1m0s\u001b[0m 124ms/step\n",
      "\u001b[1m1/1\u001b[0m \u001b[32m━━━━━━━━━━━━━━━━━━━━\u001b[0m\u001b[37m\u001b[0m \u001b[1m0s\u001b[0m 119ms/step\n",
      "\u001b[1m1/1\u001b[0m \u001b[32m━━━━━━━━━━━━━━━━━━━━\u001b[0m\u001b[37m\u001b[0m \u001b[1m0s\u001b[0m 118ms/step\n",
      "\u001b[1m1/1\u001b[0m \u001b[32m━━━━━━━━━━━━━━━━━━━━\u001b[0m\u001b[37m\u001b[0m \u001b[1m0s\u001b[0m 120ms/step\n",
      "\u001b[1m1/1\u001b[0m \u001b[32m━━━━━━━━━━━━━━━━━━━━\u001b[0m\u001b[37m\u001b[0m \u001b[1m0s\u001b[0m 121ms/step\n",
      "\u001b[1m1/1\u001b[0m \u001b[32m━━━━━━━━━━━━━━━━━━━━\u001b[0m\u001b[37m\u001b[0m \u001b[1m0s\u001b[0m 123ms/step\n",
      "\u001b[1m1/1\u001b[0m \u001b[32m━━━━━━━━━━━━━━━━━━━━\u001b[0m\u001b[37m\u001b[0m \u001b[1m0s\u001b[0m 125ms/step\n",
      "\u001b[1m1/1\u001b[0m \u001b[32m━━━━━━━━━━━━━━━━━━━━\u001b[0m\u001b[37m\u001b[0m \u001b[1m0s\u001b[0m 120ms/step\n",
      "\u001b[1m1/1\u001b[0m \u001b[32m━━━━━━━━━━━━━━━━━━━━\u001b[0m\u001b[37m\u001b[0m \u001b[1m0s\u001b[0m 125ms/step\n",
      "\u001b[1m1/1\u001b[0m \u001b[32m━━━━━━━━━━━━━━━━━━━━\u001b[0m\u001b[37m\u001b[0m \u001b[1m0s\u001b[0m 124ms/step\n",
      "\u001b[1m1/1\u001b[0m \u001b[32m━━━━━━━━━━━━━━━━━━━━\u001b[0m\u001b[37m\u001b[0m \u001b[1m0s\u001b[0m 120ms/step\n",
      "\u001b[1m1/1\u001b[0m \u001b[32m━━━━━━━━━━━━━━━━━━━━\u001b[0m\u001b[37m\u001b[0m \u001b[1m0s\u001b[0m 123ms/step\n",
      "\u001b[1m1/1\u001b[0m \u001b[32m━━━━━━━━━━━━━━━━━━━━\u001b[0m\u001b[37m\u001b[0m \u001b[1m0s\u001b[0m 133ms/step\n",
      "\u001b[1m1/1\u001b[0m \u001b[32m━━━━━━━━━━━━━━━━━━━━\u001b[0m\u001b[37m\u001b[0m \u001b[1m0s\u001b[0m 119ms/step\n",
      "\u001b[1m1/1\u001b[0m \u001b[32m━━━━━━━━━━━━━━━━━━━━\u001b[0m\u001b[37m\u001b[0m \u001b[1m0s\u001b[0m 119ms/step\n",
      "\u001b[1m1/1\u001b[0m \u001b[32m━━━━━━━━━━━━━━━━━━━━\u001b[0m\u001b[37m\u001b[0m \u001b[1m0s\u001b[0m 121ms/step\n",
      "\u001b[1m1/1\u001b[0m \u001b[32m━━━━━━━━━━━━━━━━━━━━\u001b[0m\u001b[37m\u001b[0m \u001b[1m0s\u001b[0m 121ms/step\n",
      "\u001b[1m1/1\u001b[0m \u001b[32m━━━━━━━━━━━━━━━━━━━━\u001b[0m\u001b[37m\u001b[0m \u001b[1m0s\u001b[0m 129ms/step\n",
      "\u001b[1m1/1\u001b[0m \u001b[32m━━━━━━━━━━━━━━━━━━━━\u001b[0m\u001b[37m\u001b[0m \u001b[1m0s\u001b[0m 126ms/step\n",
      "\u001b[1m1/1\u001b[0m \u001b[32m━━━━━━━━━━━━━━━━━━━━\u001b[0m\u001b[37m\u001b[0m \u001b[1m0s\u001b[0m 120ms/step\n",
      "\u001b[1m1/1\u001b[0m \u001b[32m━━━━━━━━━━━━━━━━━━━━\u001b[0m\u001b[37m\u001b[0m \u001b[1m0s\u001b[0m 138ms/step\n",
      "\u001b[1m1/1\u001b[0m \u001b[32m━━━━━━━━━━━━━━━━━━━━\u001b[0m\u001b[37m\u001b[0m \u001b[1m0s\u001b[0m 130ms/step\n",
      "\u001b[1m1/1\u001b[0m \u001b[32m━━━━━━━━━━━━━━━━━━━━\u001b[0m\u001b[37m\u001b[0m \u001b[1m0s\u001b[0m 121ms/step\n",
      "\u001b[1m1/1\u001b[0m \u001b[32m━━━━━━━━━━━━━━━━━━━━\u001b[0m\u001b[37m\u001b[0m \u001b[1m0s\u001b[0m 128ms/step\n",
      "\u001b[1m1/1\u001b[0m \u001b[32m━━━━━━━━━━━━━━━━━━━━\u001b[0m\u001b[37m\u001b[0m \u001b[1m0s\u001b[0m 122ms/step\n",
      "\u001b[1m1/1\u001b[0m \u001b[32m━━━━━━━━━━━━━━━━━━━━\u001b[0m\u001b[37m\u001b[0m \u001b[1m4s\u001b[0m 4s/step\n"
     ]
    },
    {
     "name": "stderr",
     "output_type": "stream",
     "text": [
      "2025-05-17 14:31:04.159221: I tensorflow/core/framework/local_rendezvous.cc:407] Local rendezvous is aborting with status: OUT_OF_RANGE: End of sequence\n"
     ]
    }
   ],
   "source": [
    "test_loss, test_acc = best_model.evaluate(test_ds)\n",
    "print(f\"Evaluation accuracy: {test_acc:.3f}\")\n",
    "\n",
    "y_true = []\n",
    "y_pred = []\n",
    "\n",
    "for images, labels in test_ds:\n",
    "    y_true.extend(labels.numpy())\n",
    "    y_pred.extend(np.argmax(best_model.predict(images), axis=1))\n",
    "\n",
    "y_true = np.array(y_true)\n",
    "y_pred = np.array(y_pred)"
   ]
  },
  {
   "cell_type": "code",
   "execution_count": 13,
   "id": "0ee1a60f",
   "metadata": {},
   "outputs": [
    {
     "name": "stdout",
     "output_type": "stream",
     "text": [
      "Classification Report {\n",
      "    \"a\": {\n",
      "        \"precision\": 0.9459459459459459,\n",
      "        \"recall\": 0.9459459459459459,\n",
      "        \"f1-score\": 0.9459459459459459,\n",
      "        \"support\": 37.0\n",
      "    },\n",
      "    \"b\": {\n",
      "        \"precision\": 0.8918918918918919,\n",
      "        \"recall\": 0.8461538461538461,\n",
      "        \"f1-score\": 0.868421052631579,\n",
      "        \"support\": 39.0\n",
      "    },\n",
      "    \"c\": {\n",
      "        \"precision\": 0.868421052631579,\n",
      "        \"recall\": 0.8461538461538461,\n",
      "        \"f1-score\": 0.8571428571428571,\n",
      "        \"support\": 39.0\n",
      "    },\n",
      "    \"d\": {\n",
      "        \"precision\": 0.8333333333333334,\n",
      "        \"recall\": 0.975609756097561,\n",
      "        \"f1-score\": 0.898876404494382,\n",
      "        \"support\": 41.0\n",
      "    },\n",
      "    \"e\": {\n",
      "        \"precision\": 0.9130434782608695,\n",
      "        \"recall\": 0.9333333333333333,\n",
      "        \"f1-score\": 0.9230769230769231,\n",
      "        \"support\": 45.0\n",
      "    },\n",
      "    \"f\": {\n",
      "        \"precision\": 0.84375,\n",
      "        \"recall\": 0.627906976744186,\n",
      "        \"f1-score\": 0.72,\n",
      "        \"support\": 43.0\n",
      "    },\n",
      "    \"h\": {\n",
      "        \"precision\": 0.975609756097561,\n",
      "        \"recall\": 0.8888888888888888,\n",
      "        \"f1-score\": 0.9302325581395349,\n",
      "        \"support\": 45.0\n",
      "    },\n",
      "    \"i\": {\n",
      "        \"precision\": 0.8723404255319149,\n",
      "        \"recall\": 0.8723404255319149,\n",
      "        \"f1-score\": 0.8723404255319149,\n",
      "        \"support\": 47.0\n",
      "    },\n",
      "    \"k\": {\n",
      "        \"precision\": 0.9285714285714286,\n",
      "        \"recall\": 0.8297872340425532,\n",
      "        \"f1-score\": 0.8764044943820225,\n",
      "        \"support\": 47.0\n",
      "    },\n",
      "    \"l\": {\n",
      "        \"precision\": 1.0,\n",
      "        \"recall\": 0.9787234042553191,\n",
      "        \"f1-score\": 0.989247311827957,\n",
      "        \"support\": 47.0\n",
      "    },\n",
      "    \"m\": {\n",
      "        \"precision\": 0.7741935483870968,\n",
      "        \"recall\": 0.96,\n",
      "        \"f1-score\": 0.8571428571428571,\n",
      "        \"support\": 50.0\n",
      "    },\n",
      "    \"n\": {\n",
      "        \"precision\": 0.8918918918918919,\n",
      "        \"recall\": 0.7857142857142857,\n",
      "        \"f1-score\": 0.8354430379746836,\n",
      "        \"support\": 42.0\n",
      "    },\n",
      "    \"o\": {\n",
      "        \"precision\": 0.926829268292683,\n",
      "        \"recall\": 0.926829268292683,\n",
      "        \"f1-score\": 0.926829268292683,\n",
      "        \"support\": 41.0\n",
      "    },\n",
      "    \"p\": {\n",
      "        \"precision\": 0.82,\n",
      "        \"recall\": 0.9534883720930233,\n",
      "        \"f1-score\": 0.8817204301075269,\n",
      "        \"support\": 43.0\n",
      "    },\n",
      "    \"q\": {\n",
      "        \"precision\": 0.9387755102040817,\n",
      "        \"recall\": 0.9787234042553191,\n",
      "        \"f1-score\": 0.9583333333333334,\n",
      "        \"support\": 47.0\n",
      "    },\n",
      "    \"r\": {\n",
      "        \"precision\": 0.88,\n",
      "        \"recall\": 0.4782608695652174,\n",
      "        \"f1-score\": 0.6197183098591549,\n",
      "        \"support\": 46.0\n",
      "    },\n",
      "    \"t\": {\n",
      "        \"precision\": 0.9565217391304348,\n",
      "        \"recall\": 1.0,\n",
      "        \"f1-score\": 0.9777777777777777,\n",
      "        \"support\": 44.0\n",
      "    },\n",
      "    \"u\": {\n",
      "        \"precision\": 0.7058823529411765,\n",
      "        \"recall\": 0.96,\n",
      "        \"f1-score\": 0.8135593220338984,\n",
      "        \"support\": 50.0\n",
      "    },\n",
      "    \"v\": {\n",
      "        \"precision\": 1.0,\n",
      "        \"recall\": 0.9047619047619048,\n",
      "        \"f1-score\": 0.95,\n",
      "        \"support\": 42.0\n",
      "    },\n",
      "    \"w\": {\n",
      "        \"precision\": 0.9795918367346939,\n",
      "        \"recall\": 1.0,\n",
      "        \"f1-score\": 0.9896907216494846,\n",
      "        \"support\": 48.0\n",
      "    },\n",
      "    \"x\": {\n",
      "        \"precision\": 0.84,\n",
      "        \"recall\": 0.8936170212765957,\n",
      "        \"f1-score\": 0.865979381443299,\n",
      "        \"support\": 47.0\n",
      "    },\n",
      "    \"y\": {\n",
      "        \"precision\": 0.9791666666666666,\n",
      "        \"recall\": 1.0,\n",
      "        \"f1-score\": 0.9894736842105263,\n",
      "        \"support\": 47.0\n",
      "    },\n",
      "    \"accuracy\": 0.8915046059365405,\n",
      "    \"macro avg\": {\n",
      "        \"precision\": 0.8984436421142388,\n",
      "        \"recall\": 0.8902835810502921,\n",
      "        \"f1-score\": 0.8885161862271974,\n",
      "        \"support\": 977.0\n",
      "    },\n",
      "    \"weighted avg\": {\n",
      "        \"precision\": 0.897304274018292,\n",
      "        \"recall\": 0.8915046059365405,\n",
      "        \"f1-score\": 0.8883475552996885,\n",
      "        \"support\": 977.0\n",
      "    }\n",
      "}\n",
      "🏃 View run Evaluating Best Trial Augmented Data Model at: https://dagshub.com/alfoCaiazza/FingerSpellIT.mlflow/#/experiments/0/runs/7149c0c5e3bc43339bdde967cc1b00d5\n",
      "🧪 View experiment at: https://dagshub.com/alfoCaiazza/FingerSpellIT.mlflow/#/experiments/0\n"
     ]
    }
   ],
   "source": [
    "with mlflow.start_run(run_name=f\"{EVALUATION_MLFLOW_RUN}\"):\n",
    "    report_path =f'../model/artifacts/{REPORT_NAME}.json'\n",
    "    report = classification_report(y_true, y_pred, target_names=class_names, output_dict=True)\n",
    "    print(\"Classification Report\", json.dumps(report, indent=4))\n",
    "\n",
    "    with open(report_path, \"w\") as f:\n",
    "        json.dump(report, f, indent=4)\n",
    "\n",
    "    mlflow.log_artifact(report_path, \"evaluation_metrics\")\n",
    "\n",
    "    cm = confusion_matrix(y_true, y_pred)\n",
    "    plt.figure(figsize=(10, 8))\n",
    "    sns.heatmap(cm, annot=True, fmt='d', xticklabels=class_names, yticklabels=class_names)\n",
    "    plt.xlabel('Predicted')\n",
    "    plt.ylabel('True')\n",
    "    plt.title('Confusion Matrix')\n",
    "    plt.tight_layout()\n",
    "\n",
    "    cm_local_path = os.path.join(\"../model/artifacts\", f\"{CM_NAME}.png\")\n",
    "    plt.savefig(cm_local_path, dpi=300, bbox_inches='tight')\n",
    "    \n",
    "    mlflow.log_figure(plt.gcf(), f\"evaluation_plots/{CM_NAME}.png\")\n",
    "\n",
    "    plt.close()\n"
   ]
  }
 ],
 "metadata": {
  "kernelspec": {
   "display_name": ".lis",
   "language": "python",
   "name": "python3"
  },
  "language_info": {
   "codemirror_mode": {
    "name": "ipython",
    "version": 3
   },
   "file_extension": ".py",
   "mimetype": "text/x-python",
   "name": "python",
   "nbconvert_exporter": "python",
   "pygments_lexer": "ipython3",
   "version": "3.10.12"
  }
 },
 "nbformat": 4,
 "nbformat_minor": 5
}
